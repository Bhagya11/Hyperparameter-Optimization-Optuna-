{
  "nbformat": 4,
  "nbformat_minor": 0,
  "metadata": {
    "colab": {
      "provenance": []
    },
    "kernelspec": {
      "name": "python3",
      "display_name": "Python 3"
    },
    "language_info": {
      "name": "python"
    }
  },
  "cells": [
    {
      "cell_type": "code",
      "execution_count": 1,
      "metadata": {
        "colab": {
          "base_uri": "https://localhost:8080/"
        },
        "collapsed": true,
        "id": "EQheihalSMtU",
        "outputId": "be73131d-b782-4ddf-d1ec-01f95653afc2"
      },
      "outputs": [
        {
          "output_type": "stream",
          "name": "stdout",
          "text": [
            "Collecting optuna\n",
            "  Downloading optuna-4.4.0-py3-none-any.whl.metadata (17 kB)\n",
            "Collecting alembic>=1.5.0 (from optuna)\n",
            "  Downloading alembic-1.16.4-py3-none-any.whl.metadata (7.3 kB)\n",
            "Collecting colorlog (from optuna)\n",
            "  Downloading colorlog-6.9.0-py3-none-any.whl.metadata (10 kB)\n",
            "Requirement already satisfied: numpy in /usr/local/lib/python3.11/dist-packages (from optuna) (2.0.2)\n",
            "Requirement already satisfied: packaging>=20.0 in /usr/local/lib/python3.11/dist-packages (from optuna) (25.0)\n",
            "Requirement already satisfied: sqlalchemy>=1.4.2 in /usr/local/lib/python3.11/dist-packages (from optuna) (2.0.41)\n",
            "Requirement already satisfied: tqdm in /usr/local/lib/python3.11/dist-packages (from optuna) (4.67.1)\n",
            "Requirement already satisfied: PyYAML in /usr/local/lib/python3.11/dist-packages (from optuna) (6.0.2)\n",
            "Requirement already satisfied: Mako in /usr/lib/python3/dist-packages (from alembic>=1.5.0->optuna) (1.1.3)\n",
            "Requirement already satisfied: typing-extensions>=4.12 in /usr/local/lib/python3.11/dist-packages (from alembic>=1.5.0->optuna) (4.14.1)\n",
            "Requirement already satisfied: greenlet>=1 in /usr/local/lib/python3.11/dist-packages (from sqlalchemy>=1.4.2->optuna) (3.2.3)\n",
            "Downloading optuna-4.4.0-py3-none-any.whl (395 kB)\n",
            "\u001b[2K   \u001b[90m━━━━━━━━━━━━━━━━━━━━━━━━━━━━━━━━━━━━━━━━\u001b[0m \u001b[32m395.9/395.9 kB\u001b[0m \u001b[31m29.1 MB/s\u001b[0m eta \u001b[36m0:00:00\u001b[0m\n",
            "\u001b[?25hDownloading alembic-1.16.4-py3-none-any.whl (247 kB)\n",
            "\u001b[2K   \u001b[90m━━━━━━━━━━━━━━━━━━━━━━━━━━━━━━━━━━━━━━━━\u001b[0m \u001b[32m247.0/247.0 kB\u001b[0m \u001b[31m22.1 MB/s\u001b[0m eta \u001b[36m0:00:00\u001b[0m\n",
            "\u001b[?25hDownloading colorlog-6.9.0-py3-none-any.whl (11 kB)\n",
            "Installing collected packages: colorlog, alembic, optuna\n",
            "Successfully installed alembic-1.16.4 colorlog-6.9.0 optuna-4.4.0\n"
          ]
        }
      ],
      "source": [
        "!pip install optuna\n"
      ]
    },
    {
      "cell_type": "code",
      "source": [
        "from sklearn.datasets import load_iris\n",
        "from sklearn.model_selection import train_test_split, GridSearchCV, RandomizedSearchCV, cross_val_score\n",
        "from sklearn.ensemble import RandomForestClassifier\n",
        "from scipy.stats import randint\n",
        "import optuna\n",
        "\n",
        "# Load data\n",
        "X, y = load_iris(return_X_y=True)\n",
        "X_train, X_test, y_train, y_test = train_test_split(X, y, test_size=0.3, random_state=42)\n",
        "\n",
        "# --------------------------------------------------\n",
        "# 🔹 1. GridSearchCV\n",
        "# --------------------------------------------------\n",
        "param_grid = {\n",
        "    'n_estimators': [50, 100, 150],\n",
        "    'max_depth': [3, 5, 7]\n",
        "}\n",
        "\n",
        "grid_model = GridSearchCV(\n",
        "    RandomForestClassifier(),\n",
        "    param_grid,\n",
        "    cv=5,\n",
        "    scoring='accuracy'\n",
        ")\n",
        "\n",
        "grid_model.fit(X_train, y_train)\n",
        "\n",
        "print(\"🔍 GridSearchCV Best Params:\", grid_model.best_params_)\n",
        "print(\"🔍 GridSearchCV Best Score:\", grid_model.best_score_)\n",
        "\n",
        "# --------------------------------------------------\n",
        "# 🔹 2. RandomizedSearchCV\n",
        "# --------------------------------------------------\n",
        "param_dist = {\n",
        "    'n_estimators': randint(50, 200),\n",
        "    'max_depth': randint(2, 10)\n",
        "}\n",
        "\n",
        "random_model = RandomizedSearchCV(\n",
        "    RandomForestClassifier(),\n",
        "    param_distributions=param_dist,\n",
        "    n_iter=20,        # number of random combinations\n",
        "    cv=5,\n",
        "    random_state=42,\n",
        "    scoring='accuracy'\n",
        ")\n",
        "\n",
        "random_model.fit(X_train, y_train)\n",
        "\n",
        "print(\"🎲 RandomizedSearchCV Best Params:\", random_model.best_params_)\n",
        "print(\"🎲 RandomizedSearchCV Best Score:\", random_model.best_score_)\n",
        "\n",
        "# --------------------------------------------------\n",
        "# 🔹 3. Optuna\n",
        "# --------------------------------------------------\n",
        "def objective(trial):\n",
        "    n_estimators = trial.suggest_int(\"n_estimators\", 50, 200)\n",
        "    max_depth = trial.suggest_int(\"max_depth\", 2, 10)\n",
        "\n",
        "    clf = RandomForestClassifier(n_estimators=n_estimators, max_depth=max_depth)\n",
        "    score = cross_val_score(clf, X_train, y_train, cv=5, scoring='accuracy').mean()\n",
        "    return score\n",
        "\n",
        "study = optuna.create_study(direction='maximize')\n",
        "study.optimize(objective, n_trials=20)\n",
        "\n",
        "print(\"🧠 Optuna Best Params:\", study.best_params)\n",
        "print(\"🧠 Optuna Best Score:\", study.best_value)\n"
      ],
      "metadata": {
        "colab": {
          "base_uri": "https://localhost:8080/"
        },
        "id": "3j4z99BISajC",
        "outputId": "8b275624-7b8a-425c-c8b5-e07b9c99bdd2"
      },
      "execution_count": 2,
      "outputs": [
        {
          "output_type": "stream",
          "name": "stdout",
          "text": [
            "🔍 GridSearchCV Best Params: {'max_depth': 3, 'n_estimators': 50}\n",
            "🔍 GridSearchCV Best Score: 0.9428571428571428\n"
          ]
        },
        {
          "output_type": "stream",
          "name": "stderr",
          "text": [
            "[I 2025-07-29 03:47:20,189] A new study created in memory with name: no-name-33a403fa-e4f5-43ff-bb06-01ce17e1cbb4\n"
          ]
        },
        {
          "output_type": "stream",
          "name": "stdout",
          "text": [
            "🎲 RandomizedSearchCV Best Params: {'max_depth': 8, 'n_estimators': 142}\n",
            "🎲 RandomizedSearchCV Best Score: 0.9428571428571428\n"
          ]
        },
        {
          "output_type": "stream",
          "name": "stderr",
          "text": [
            "[I 2025-07-29 03:47:20,918] Trial 0 finished with value: 0.9428571428571428 and parameters: {'n_estimators': 100, 'max_depth': 9}. Best is trial 0 with value: 0.9428571428571428.\n",
            "[I 2025-07-29 03:47:21,905] Trial 1 finished with value: 0.9428571428571428 and parameters: {'n_estimators': 136, 'max_depth': 6}. Best is trial 0 with value: 0.9428571428571428.\n",
            "[I 2025-07-29 03:47:22,739] Trial 2 finished with value: 0.9428571428571428 and parameters: {'n_estimators': 115, 'max_depth': 4}. Best is trial 0 with value: 0.9428571428571428.\n",
            "[I 2025-07-29 03:47:23,651] Trial 3 finished with value: 0.9428571428571428 and parameters: {'n_estimators': 126, 'max_depth': 7}. Best is trial 0 with value: 0.9428571428571428.\n",
            "[I 2025-07-29 03:47:24,870] Trial 4 finished with value: 0.9428571428571428 and parameters: {'n_estimators': 171, 'max_depth': 10}. Best is trial 0 with value: 0.9428571428571428.\n",
            "[I 2025-07-29 03:47:25,716] Trial 5 finished with value: 0.9428571428571428 and parameters: {'n_estimators': 114, 'max_depth': 5}. Best is trial 0 with value: 0.9428571428571428.\n",
            "[I 2025-07-29 03:47:26,739] Trial 6 finished with value: 0.9428571428571428 and parameters: {'n_estimators': 140, 'max_depth': 8}. Best is trial 0 with value: 0.9428571428571428.\n",
            "[I 2025-07-29 03:47:27,555] Trial 7 finished with value: 0.9428571428571428 and parameters: {'n_estimators': 108, 'max_depth': 4}. Best is trial 0 with value: 0.9428571428571428.\n",
            "[I 2025-07-29 03:47:28,619] Trial 8 finished with value: 0.9428571428571428 and parameters: {'n_estimators': 90, 'max_depth': 5}. Best is trial 0 with value: 0.9428571428571428.\n",
            "[I 2025-07-29 03:47:29,800] Trial 9 finished with value: 0.9428571428571428 and parameters: {'n_estimators': 102, 'max_depth': 4}. Best is trial 0 with value: 0.9428571428571428.\n",
            "[I 2025-07-29 03:47:30,282] Trial 10 finished with value: 0.9428571428571428 and parameters: {'n_estimators': 50, 'max_depth': 10}. Best is trial 0 with value: 0.9428571428571428.\n",
            "[I 2025-07-29 03:47:31,389] Trial 11 finished with value: 0.9428571428571428 and parameters: {'n_estimators': 153, 'max_depth': 8}. Best is trial 0 with value: 0.9428571428571428.\n",
            "[I 2025-07-29 03:47:31,911] Trial 12 finished with value: 0.9333333333333333 and parameters: {'n_estimators': 67, 'max_depth': 2}. Best is trial 0 with value: 0.9428571428571428.\n",
            "[I 2025-07-29 03:47:33,274] Trial 13 finished with value: 0.9428571428571428 and parameters: {'n_estimators': 191, 'max_depth': 7}. Best is trial 0 with value: 0.9428571428571428.\n",
            "[I 2025-07-29 03:47:33,905] Trial 14 finished with value: 0.9428571428571428 and parameters: {'n_estimators': 83, 'max_depth': 9}. Best is trial 0 with value: 0.9428571428571428.\n",
            "[I 2025-07-29 03:47:34,913] Trial 15 finished with value: 0.9428571428571428 and parameters: {'n_estimators': 138, 'max_depth': 6}. Best is trial 0 with value: 0.9428571428571428.\n",
            "[I 2025-07-29 03:47:36,048] Trial 16 finished with value: 0.9238095238095239 and parameters: {'n_estimators': 160, 'max_depth': 2}. Best is trial 0 with value: 0.9428571428571428.\n",
            "[I 2025-07-29 03:47:36,686] Trial 17 finished with value: 0.9428571428571428 and parameters: {'n_estimators': 85, 'max_depth': 7}. Best is trial 0 with value: 0.9428571428571428.\n",
            "[I 2025-07-29 03:47:38,012] Trial 18 finished with value: 0.9428571428571428 and parameters: {'n_estimators': 182, 'max_depth': 9}. Best is trial 0 with value: 0.9428571428571428.\n",
            "[I 2025-07-29 03:47:38,972] Trial 19 finished with value: 0.9428571428571428 and parameters: {'n_estimators': 131, 'max_depth': 6}. Best is trial 0 with value: 0.9428571428571428.\n"
          ]
        },
        {
          "output_type": "stream",
          "name": "stdout",
          "text": [
            "🧠 Optuna Best Params: {'n_estimators': 100, 'max_depth': 9}\n",
            "🧠 Optuna Best Score: 0.9428571428571428\n"
          ]
        }
      ]
    },
    {
      "cell_type": "code",
      "source": [],
      "metadata": {
        "id": "u6kC3vydShCi"
      },
      "execution_count": null,
      "outputs": []
    }
  ]
}